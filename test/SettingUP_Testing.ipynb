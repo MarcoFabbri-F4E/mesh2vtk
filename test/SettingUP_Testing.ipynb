{
 "cells": [
  {
   "cell_type": "code",
   "execution_count": 1,
   "metadata": {},
   "outputs": [],
   "source": [
    "import os\n",
    "import re\n",
    "from sys import path\n",
    "import pytest \n",
    "\n",
    "dep_path='./../' # adjust this path to the location of the meshtal_mod.py module \n",
    "path.append(dep_path)  \n",
    "from  meshtal_mod import *\n",
    "\n",
    "import pyvista as pv"
   ]
  },
  {
   "cell_type": "code",
   "execution_count": null,
   "metadata": {},
   "outputs": [],
   "source": [
    "input_meshtal = ['meshtal_cuv','meshtal_cyl','meshtal_d1s_CSimpactStudy']\n",
    "input_meshtal = 'meshtal_cyl'"
   ]
  },
  {
   "cell_type": "code",
   "execution_count": null,
   "metadata": {},
   "outputs": [],
   "source": [
    "filetype='MCNP'\n",
    "meshtally = Meshtal(input_meshtal,filetype)"
   ]
  },
  {
   "cell_type": "code",
   "execution_count": null,
   "metadata": {},
   "outputs": [],
   "source": [
    "meshtally.print_info()"
   ]
  },
  {
   "cell_type": "code",
   "execution_count": null,
   "metadata": {},
   "outputs": [],
   "source": [
    "meshtally.mesh[4].mesh_info()"
   ]
  },
  {
   "cell_type": "code",
   "execution_count": null,
   "metadata": {},
   "outputs": [],
   "source": [
    "for i in meshtally.mesh.items():\n",
    "    meshtally.mesh[i[0]].print_info()"
   ]
  },
  {
   "cell_type": "code",
   "execution_count": null,
   "metadata": {},
   "outputs": [],
   "source": [
    "for i in meshtally.mesh.items():\n",
    "    meshtally.mesh[i[0]].print_info()\n",
    "    meshtally.readMesh([i[0]])\n",
    "    \n",
    "    meshname  = meshtally\n",
    "    meshobj   = meshtally.mesh[i[0]]\n",
    "    if meshobj.cart:\n",
    "        name = 'test_.vtr'\n",
    "    else:\n",
    "        name = 'test_.vts'\n",
    "\n",
    "    meshobj.writeVTK(name)\n",
    "    "
   ]
  },
  {
   "cell_type": "code",
   "execution_count": null,
   "metadata": {},
   "outputs": [],
   "source": [
    "meshtally.readMesh([4])\n",
    "meshname  = meshtally\n",
    "meshobj   = meshtally.mesh[4]\n",
    "if meshobj.cart:\n",
    "    name = 'test_.vtr'\n",
    "else:\n",
    "    name = 'test_.vts'\n",
    "    \n",
    "meshobj.writeVTK(name)"
   ]
  },
  {
   "cell_type": "code",
   "execution_count": null,
   "metadata": {},
   "outputs": [],
   "source": [
    "filename = 'test_VTK.vtr'\n",
    "mesh = pv.read(filename)"
   ]
  },
  {
   "cell_type": "code",
   "execution_count": null,
   "metadata": {},
   "outputs": [],
   "source": [
    "mesh['Value - Total'][2]"
   ]
  },
  {
   "cell_type": "code",
   "execution_count": null,
   "metadata": {},
   "outputs": [],
   "source": [
    "input_meshtal = 'meshtal_CUBE_SQUARE'\n",
    "\n",
    "filetype='MCNP'\n",
    "meshtally = Meshtal(input_meshtal,filetype)\n",
    "\n",
    "#meshtally.mesh[124].print_info()\n",
    "meshtally.readMesh([124])\n",
    "\n",
    "#meshname  = meshtally\n",
    "meshobj   = meshtally.mesh[124]\n",
    "\n",
    "#name = 'test_VTK_CUBE_SQUARE.vtr'\n",
    "#meshobj.writeVTK(name)\n",
    "\n",
    "\n",
    "smesh = scalemesh(meshobj,2)\n",
    "smesh.dat[0][0]"
   ]
  },
  {
   "cell_type": "code",
   "execution_count": null,
   "metadata": {},
   "outputs": [],
   "source": [
    "input_meshtal = 'meshtal_CUBE_ONES'\n",
    "\n",
    "filetype='MCNP'\n",
    "meshtally = Meshtal(input_meshtal,filetype)\n",
    "\n",
    "meshtally.readMesh([124])\n",
    "meshobj   = meshtally.mesh[124]\n",
    "\n",
    "smesh = addmesh(meshobj,meshobj,f1=1.,f2=1.,corr=True)\n",
    "\n",
    "smesh.dat[0][0][0][0]"
   ]
  },
  {
   "cell_type": "code",
   "execution_count": null,
   "metadata": {},
   "outputs": [],
   "source": [
    "\n",
    "meshtally.readMesh([4])\n",
    "meshname  = meshtally\n",
    "meshobj   = meshtally.mesh[4]\n",
    "\n",
    "smesh = scalemesh(meshobj,2)\n",
    "\n"
   ]
  },
  {
   "cell_type": "code",
   "execution_count": 12,
   "metadata": {},
   "outputs": [
    {
     "ename": "AttributeError",
     "evalue": "'Fmesh' object has no attribute '__mltflt__'",
     "output_type": "error",
     "traceback": [
      "\u001b[1;31m---------------------------------------------------------------------------\u001b[0m",
      "\u001b[1;31mAttributeError\u001b[0m                            Traceback (most recent call last)",
      "\u001b[1;32m<ipython-input-12-5e2d9521cb6e>\u001b[0m in \u001b[0;36m<module>\u001b[1;34m\u001b[0m\n\u001b[0;32m      4\u001b[0m \u001b[0mmeshtally\u001b[0m \u001b[1;33m=\u001b[0m \u001b[0mMeshtal\u001b[0m\u001b[1;33m(\u001b[0m\u001b[0minput_meshtal\u001b[0m\u001b[1;33m,\u001b[0m\u001b[0mfiletype\u001b[0m\u001b[1;33m)\u001b[0m\u001b[1;33m\u001b[0m\u001b[1;33m\u001b[0m\u001b[0m\n\u001b[0;32m      5\u001b[0m \u001b[1;32mfor\u001b[0m \u001b[0mi\u001b[0m \u001b[1;32min\u001b[0m \u001b[0mmeshtally\u001b[0m\u001b[1;33m.\u001b[0m\u001b[0mmesh\u001b[0m\u001b[1;33m.\u001b[0m\u001b[0mitems\u001b[0m\u001b[1;33m(\u001b[0m\u001b[1;33m)\u001b[0m\u001b[1;33m:\u001b[0m\u001b[1;33m\u001b[0m\u001b[1;33m\u001b[0m\u001b[0m\n\u001b[1;32m----> 6\u001b[1;33m     \u001b[0mmeshtally\u001b[0m\u001b[1;33m.\u001b[0m\u001b[0mreadMesh\u001b[0m\u001b[1;33m(\u001b[0m\u001b[0mi\u001b[0m\u001b[1;33m)\u001b[0m\u001b[1;33m\u001b[0m\u001b[1;33m\u001b[0m\u001b[0m\n\u001b[0m\u001b[0;32m      7\u001b[0m \u001b[1;33m\u001b[0m\u001b[0m\n",
      "\u001b[1;32mD:\\Python\\mesh2vtk\\meshtal_mod.py\u001b[0m in \u001b[0;36mreadMesh\u001b[1;34m(self, mesh)\u001b[0m\n\u001b[0;32m    152\u001b[0m             \u001b[0mm\u001b[0m\u001b[1;33m.\u001b[0m\u001b[0mreadMCNP\u001b[0m\u001b[1;33m(\u001b[0m\u001b[0mself\u001b[0m\u001b[1;33m.\u001b[0m\u001b[0mf\u001b[0m\u001b[1;33m)\u001b[0m\u001b[1;33m\u001b[0m\u001b[1;33m\u001b[0m\u001b[0m\n\u001b[0;32m    153\u001b[0m           \u001b[1;32melse\u001b[0m\u001b[1;33m:\u001b[0m\u001b[1;33m\u001b[0m\u001b[1;33m\u001b[0m\u001b[0m\n\u001b[1;32m--> 154\u001b[1;33m             \u001b[1;32mif\u001b[0m \u001b[0mm\u001b[0m\u001b[1;33m.\u001b[0m\u001b[0m__mltflt__\u001b[0m \u001b[1;32mis\u001b[0m \u001b[1;32mnot\u001b[0m  \u001b[1;32mNone\u001b[0m \u001b[1;33m:\u001b[0m\u001b[1;33m\u001b[0m\u001b[1;33m\u001b[0m\u001b[0m\n\u001b[0m\u001b[0;32m    155\u001b[0m               \u001b[0mflist\u001b[0m \u001b[1;33m=\u001b[0m \u001b[0mget_clist\u001b[0m\u001b[1;33m(\u001b[0m \u001b[0mm\u001b[0m\u001b[1;33m.\u001b[0m\u001b[0m__mltflt__\u001b[0m \u001b[1;33m)\u001b[0m\u001b[1;33m\u001b[0m\u001b[1;33m\u001b[0m\u001b[0m\n\u001b[0;32m    156\u001b[0m             \u001b[1;32melse\u001b[0m\u001b[1;33m:\u001b[0m\u001b[1;33m\u001b[0m\u001b[1;33m\u001b[0m\u001b[0m\n",
      "\u001b[1;31mAttributeError\u001b[0m: 'Fmesh' object has no attribute '__mltflt__'"
     ]
    }
   ],
   "source": [
    "input_meshtal = 'meshtal_cuv'\n",
    "\n",
    "filetype='MCNP'\n",
    "meshtally = Meshtal(input_meshtal,filetype)\n",
    "for i in meshtally.mesh.items():\n",
    "    meshtally.readMesh(i)\n",
    "\n"
   ]
  }
 ],
 "metadata": {
  "kernelspec": {
   "display_name": "Python 3",
   "language": "python",
   "name": "python3"
  },
  "language_info": {
   "codemirror_mode": {
    "name": "ipython",
    "version": 3
   },
   "file_extension": ".py",
   "mimetype": "text/x-python",
   "name": "python",
   "nbconvert_exporter": "python",
   "pygments_lexer": "ipython3",
   "version": "3.7.2"
  }
 },
 "nbformat": 4,
 "nbformat_minor": 4
}
